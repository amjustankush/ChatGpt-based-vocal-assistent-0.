{
  "cells": [
    {
      "cell_type": "markdown",
      "metadata": {
        "id": "view-in-github",
        "colab_type": "text"
      },
      "source": [
        "<a href=\"https://colab.research.google.com/github/amjustankush/ChatGpt-based-vocal-assistent-0.3/blob/main/Copy_of_Deep_Q_Learning_for_Lunar_Landing_Partial_Code.ipynb\" target=\"_parent\"><img src=\"https://colab.research.google.com/assets/colab-badge.svg\" alt=\"Open In Colab\"/></a>"
      ]
    },
    {
      "cell_type": "markdown",
      "metadata": {
        "id": "LbZcI9ZXHl3a"
      },
      "source": [
        "# Deep Q-Learning for Lunar Landing"
      ]
    },
    {
      "cell_type": "markdown",
      "metadata": {
        "id": "E8yPRjteXgPb"
      },
      "source": [
        "## Part 0 - Installing the required packages and importing the libraries"
      ]
    },
    {
      "cell_type": "markdown",
      "metadata": {
        "id": "slEm5teGWjWU"
      },
      "source": [
        "### Installing Gymnasium"
      ]
    },
    {
      "cell_type": "code",
      "execution_count": 1,
      "metadata": {
        "id": "dbnq3XpoKa_7",
        "colab": {
          "base_uri": "https://localhost:8080/"
        },
        "outputId": "22b0f82c-2e5e-4b20-aed6-917dc81ba004"
      },
      "outputs": [
        {
          "output_type": "stream",
          "name": "stdout",
          "text": [
            "Collecting gymnasium\n",
            "  Downloading gymnasium-0.29.1-py3-none-any.whl (953 kB)\n",
            "\u001b[2K     \u001b[90m━━━━━━━━━━━━━━━━━━━━━━━━━━━━━━━━━━━━━━━━\u001b[0m \u001b[32m953.9/953.9 kB\u001b[0m \u001b[31m8.2 MB/s\u001b[0m eta \u001b[36m0:00:00\u001b[0m\n",
            "\u001b[?25hRequirement already satisfied: numpy>=1.21.0 in /usr/local/lib/python3.10/dist-packages (from gymnasium) (1.23.5)\n",
            "Requirement already satisfied: cloudpickle>=1.2.0 in /usr/local/lib/python3.10/dist-packages (from gymnasium) (2.2.1)\n",
            "Requirement already satisfied: typing-extensions>=4.3.0 in /usr/local/lib/python3.10/dist-packages (from gymnasium) (4.5.0)\n",
            "Collecting farama-notifications>=0.0.1 (from gymnasium)\n",
            "  Downloading Farama_Notifications-0.0.4-py3-none-any.whl (2.5 kB)\n",
            "Installing collected packages: farama-notifications, gymnasium\n",
            "Successfully installed farama-notifications-0.0.4 gymnasium-0.29.1\n",
            "Requirement already satisfied: gymnasium[accept-rom-license,atari] in /usr/local/lib/python3.10/dist-packages (0.29.1)\n",
            "Requirement already satisfied: numpy>=1.21.0 in /usr/local/lib/python3.10/dist-packages (from gymnasium[accept-rom-license,atari]) (1.23.5)\n",
            "Requirement already satisfied: cloudpickle>=1.2.0 in /usr/local/lib/python3.10/dist-packages (from gymnasium[accept-rom-license,atari]) (2.2.1)\n",
            "Requirement already satisfied: typing-extensions>=4.3.0 in /usr/local/lib/python3.10/dist-packages (from gymnasium[accept-rom-license,atari]) (4.5.0)\n",
            "Requirement already satisfied: farama-notifications>=0.0.1 in /usr/local/lib/python3.10/dist-packages (from gymnasium[accept-rom-license,atari]) (0.0.4)\n",
            "Collecting shimmy[atari]<1.0,>=0.1.0 (from gymnasium[accept-rom-license,atari])\n",
            "  Downloading Shimmy-0.2.1-py3-none-any.whl (25 kB)\n",
            "Collecting autorom[accept-rom-license]~=0.4.2 (from gymnasium[accept-rom-license,atari])\n",
            "  Downloading AutoROM-0.4.2-py3-none-any.whl (16 kB)\n",
            "Requirement already satisfied: click in /usr/local/lib/python3.10/dist-packages (from autorom[accept-rom-license]~=0.4.2->gymnasium[accept-rom-license,atari]) (8.1.7)\n",
            "Requirement already satisfied: requests in /usr/local/lib/python3.10/dist-packages (from autorom[accept-rom-license]~=0.4.2->gymnasium[accept-rom-license,atari]) (2.31.0)\n",
            "Requirement already satisfied: tqdm in /usr/local/lib/python3.10/dist-packages (from autorom[accept-rom-license]~=0.4.2->gymnasium[accept-rom-license,atari]) (4.66.1)\n",
            "Collecting AutoROM.accept-rom-license (from autorom[accept-rom-license]~=0.4.2->gymnasium[accept-rom-license,atari])\n",
            "  Downloading AutoROM.accept-rom-license-0.6.1.tar.gz (434 kB)\n",
            "\u001b[2K     \u001b[90m━━━━━━━━━━━━━━━━━━━━━━━━━━━━━━━━━━━━━━━━\u001b[0m \u001b[32m434.7/434.7 kB\u001b[0m \u001b[31m7.8 MB/s\u001b[0m eta \u001b[36m0:00:00\u001b[0m\n",
            "\u001b[?25h  Installing build dependencies ... \u001b[?25l\u001b[?25hdone\n",
            "  Getting requirements to build wheel ... \u001b[?25l\u001b[?25hdone\n",
            "  Preparing metadata (pyproject.toml) ... \u001b[?25l\u001b[?25hdone\n",
            "Collecting ale-py~=0.8.1 (from shimmy[atari]<1.0,>=0.1.0->gymnasium[accept-rom-license,atari])\n",
            "  Downloading ale_py-0.8.1-cp310-cp310-manylinux_2_17_x86_64.manylinux2014_x86_64.whl (1.7 MB)\n",
            "\u001b[2K     \u001b[90m━━━━━━━━━━━━━━━━━━━━━━━━━━━━━━━━━━━━━━━━\u001b[0m \u001b[32m1.7/1.7 MB\u001b[0m \u001b[31m14.5 MB/s\u001b[0m eta \u001b[36m0:00:00\u001b[0m\n",
            "\u001b[?25hRequirement already satisfied: importlib-resources in /usr/local/lib/python3.10/dist-packages (from ale-py~=0.8.1->shimmy[atari]<1.0,>=0.1.0->gymnasium[accept-rom-license,atari]) (6.1.1)\n",
            "Requirement already satisfied: charset-normalizer<4,>=2 in /usr/local/lib/python3.10/dist-packages (from requests->autorom[accept-rom-license]~=0.4.2->gymnasium[accept-rom-license,atari]) (3.3.2)\n",
            "Requirement already satisfied: idna<4,>=2.5 in /usr/local/lib/python3.10/dist-packages (from requests->autorom[accept-rom-license]~=0.4.2->gymnasium[accept-rom-license,atari]) (3.6)\n",
            "Requirement already satisfied: urllib3<3,>=1.21.1 in /usr/local/lib/python3.10/dist-packages (from requests->autorom[accept-rom-license]~=0.4.2->gymnasium[accept-rom-license,atari]) (2.0.7)\n",
            "Requirement already satisfied: certifi>=2017.4.17 in /usr/local/lib/python3.10/dist-packages (from requests->autorom[accept-rom-license]~=0.4.2->gymnasium[accept-rom-license,atari]) (2023.11.17)\n",
            "Building wheels for collected packages: AutoROM.accept-rom-license\n",
            "  Building wheel for AutoROM.accept-rom-license (pyproject.toml) ... \u001b[?25l\u001b[?25hdone\n",
            "  Created wheel for AutoROM.accept-rom-license: filename=AutoROM.accept_rom_license-0.6.1-py3-none-any.whl size=446660 sha256=189bf4db1491511b61912bd2d2ebf6ed209df0d6a392255b65106f4cb4f02236\n",
            "  Stored in directory: /root/.cache/pip/wheels/6b/1b/ef/a43ff1a2f1736d5711faa1ba4c1f61be1131b8899e6a057811\n",
            "Successfully built AutoROM.accept-rom-license\n",
            "Installing collected packages: ale-py, shimmy, AutoROM.accept-rom-license, autorom\n",
            "Successfully installed AutoROM.accept-rom-license-0.6.1 ale-py-0.8.1 autorom-0.4.2 shimmy-0.2.1\n",
            "Reading package lists... Done\n",
            "Building dependency tree... Done\n",
            "Reading state information... Done\n",
            "The following additional packages will be installed:\n",
            "  swig4.0\n",
            "Suggested packages:\n",
            "  swig-doc swig-examples swig4.0-examples swig4.0-doc\n",
            "The following NEW packages will be installed:\n",
            "  swig swig4.0\n",
            "0 upgraded, 2 newly installed, 0 to remove and 24 not upgraded.\n",
            "Need to get 1,116 kB of archives.\n",
            "After this operation, 5,542 kB of additional disk space will be used.\n",
            "Get:1 http://archive.ubuntu.com/ubuntu jammy/universe amd64 swig4.0 amd64 4.0.2-1ubuntu1 [1,110 kB]\n",
            "Get:2 http://archive.ubuntu.com/ubuntu jammy/universe amd64 swig all 4.0.2-1ubuntu1 [5,632 B]\n",
            "Fetched 1,116 kB in 5s (218 kB/s)\n",
            "Selecting previously unselected package swig4.0.\n",
            "(Reading database ... 121654 files and directories currently installed.)\n",
            "Preparing to unpack .../swig4.0_4.0.2-1ubuntu1_amd64.deb ...\n",
            "Unpacking swig4.0 (4.0.2-1ubuntu1) ...\n",
            "Selecting previously unselected package swig.\n",
            "Preparing to unpack .../swig_4.0.2-1ubuntu1_all.deb ...\n",
            "Unpacking swig (4.0.2-1ubuntu1) ...\n",
            "Setting up swig4.0 (4.0.2-1ubuntu1) ...\n",
            "Setting up swig (4.0.2-1ubuntu1) ...\n",
            "Processing triggers for man-db (2.10.2-1) ...\n",
            "Requirement already satisfied: gymnasium[box2d] in /usr/local/lib/python3.10/dist-packages (0.29.1)\n",
            "Requirement already satisfied: numpy>=1.21.0 in /usr/local/lib/python3.10/dist-packages (from gymnasium[box2d]) (1.23.5)\n",
            "Requirement already satisfied: cloudpickle>=1.2.0 in /usr/local/lib/python3.10/dist-packages (from gymnasium[box2d]) (2.2.1)\n",
            "Requirement already satisfied: typing-extensions>=4.3.0 in /usr/local/lib/python3.10/dist-packages (from gymnasium[box2d]) (4.5.0)\n",
            "Requirement already satisfied: farama-notifications>=0.0.1 in /usr/local/lib/python3.10/dist-packages (from gymnasium[box2d]) (0.0.4)\n",
            "Collecting box2d-py==2.3.5 (from gymnasium[box2d])\n",
            "  Downloading box2d-py-2.3.5.tar.gz (374 kB)\n",
            "\u001b[2K     \u001b[90m━━━━━━━━━━━━━━━━━━━━━━━━━━━━━━━━━━━━━━━━\u001b[0m \u001b[32m374.4/374.4 kB\u001b[0m \u001b[31m8.4 MB/s\u001b[0m eta \u001b[36m0:00:00\u001b[0m\n",
            "\u001b[?25h  Preparing metadata (setup.py) ... \u001b[?25l\u001b[?25hdone\n",
            "Requirement already satisfied: pygame>=2.1.3 in /usr/local/lib/python3.10/dist-packages (from gymnasium[box2d]) (2.5.2)\n",
            "Collecting swig==4.* (from gymnasium[box2d])\n",
            "  Downloading swig-4.1.1.post1-py2.py3-none-manylinux_2_5_x86_64.manylinux1_x86_64.whl (1.8 MB)\n",
            "\u001b[2K     \u001b[90m━━━━━━━━━━━━━━━━━━━━━━━━━━━━━━━━━━━━━━━━\u001b[0m \u001b[32m1.8/1.8 MB\u001b[0m \u001b[31m18.7 MB/s\u001b[0m eta \u001b[36m0:00:00\u001b[0m\n",
            "\u001b[?25hBuilding wheels for collected packages: box2d-py\n",
            "  Building wheel for box2d-py (setup.py) ... \u001b[?25l\u001b[?25hdone\n",
            "  Created wheel for box2d-py: filename=box2d_py-2.3.5-cp310-cp310-linux_x86_64.whl size=2349119 sha256=ea9262a8db727281312f3857028721f2632263e7b9be723efcb8b256630fc1ba\n",
            "  Stored in directory: /root/.cache/pip/wheels/db/8f/6a/eaaadf056fba10a98d986f6dce954e6201ba3126926fc5ad9e\n",
            "Successfully built box2d-py\n",
            "Installing collected packages: swig, box2d-py\n",
            "Successfully installed box2d-py-2.3.5 swig-4.1.1.post1\n"
          ]
        }
      ],
      "source": [
        "!pip install gymnasium\n",
        "!pip install \"gymnasium[atari, accept-rom-license]\"\n",
        "!apt-get install -y swig\n",
        "!pip install gymnasium[box2d]"
      ]
    },
    {
      "cell_type": "markdown",
      "metadata": {
        "id": "brqiMN3UW9T9"
      },
      "source": [
        "### Importing the libraries"
      ]
    },
    {
      "cell_type": "code",
      "execution_count": 2,
      "metadata": {
        "id": "mZaKXP_aMl9O"
      },
      "outputs": [],
      "source": [
        "import os\n",
        "import random\n",
        "import numpy as np\n",
        "import torch\n",
        "import torch.nn as nn\n",
        "import torch.optim as optim\n",
        "import torch.nn.functional as F\n",
        "import torch.autograd as autograd\n",
        "from torch.autograd import Variable\n",
        "from collections import deque, namedtuple"
      ]
    },
    {
      "cell_type": "markdown",
      "metadata": {
        "id": "EzlDKXvkXzGI"
      },
      "source": [
        "## Part 1 - Building the AI"
      ]
    },
    {
      "cell_type": "markdown",
      "metadata": {
        "id": "UtG6Zc83YYy3"
      },
      "source": [
        "### Creating the architecture of the Neural Network"
      ]
    },
    {
      "cell_type": "code",
      "source": [
        "class Network(nn.Module):\n",
        "\n",
        "  def __init__(self, state_size, action_size, seed = 42):\n",
        "    super(Network, self).__init__()\n",
        "    self.seed = torch.manual_seed(seed)\n",
        "    self.fc1 = nn.Linear(state_size, 64)\n",
        "    self.fc2 = nn.Linear(64, 64)\n",
        "    self.fc3 = nn.Linear(64, action_size)\n",
        "\n",
        "  def forward(self, state):\n",
        "    x = self.fc1(state)\n",
        "    x = F.relu(x)\n",
        "    x = self.fc2(x)\n",
        "    x = F.relu(x)\n",
        "    return self.fc3(x)"
      ],
      "metadata": {
        "id": "ZtQiHwenLf6I"
      },
      "execution_count": 3,
      "outputs": []
    },
    {
      "cell_type": "markdown",
      "metadata": {
        "id": "UxVrBnFWZKb1"
      },
      "source": [
        "## Part 2 - Training the AI"
      ]
    },
    {
      "cell_type": "markdown",
      "metadata": {
        "id": "T364fz9qZb2j"
      },
      "source": [
        "### Setting up the environment"
      ]
    },
    {
      "cell_type": "code",
      "source": [
        "import gymnasium as gym\n",
        "env = gym.make('LunarLander-v2')\n",
        "state_shape = env.observation_space.shape\n",
        "state_size = env.observation_space.shape[0]\n",
        "number_actions = env.action_space.n\n",
        "print('State shape: ', state_shape)\n",
        "print('State size: ', state_size)\n",
        "print('Number of actions: ', number_actions)"
      ],
      "metadata": {
        "colab": {
          "base_uri": "https://localhost:8080/"
        },
        "id": "7yCzuOeTOc8f",
        "outputId": "ee9fdf43-3fed-4ee1-9747-eac4c23ac5ed"
      },
      "execution_count": 4,
      "outputs": [
        {
          "output_type": "stream",
          "name": "stdout",
          "text": [
            "State shape:  (8,)\n",
            "State size:  8\n",
            "Number of actions:  4\n"
          ]
        }
      ]
    },
    {
      "cell_type": "markdown",
      "metadata": {
        "id": "c_dZmOIvZgj-"
      },
      "source": [
        "### Initializing the hyperparameters"
      ]
    },
    {
      "cell_type": "code",
      "source": [
        "learning_rate = 5e-4\n",
        "minibatch_size = 100\n",
        "discount_factor = 0.99\n",
        "replay_buffer_size = int(1e5)\n",
        "interpolation_parameter = 1e-3"
      ],
      "metadata": {
        "id": "czUhQcwZQWod"
      },
      "execution_count": 5,
      "outputs": []
    },
    {
      "cell_type": "markdown",
      "metadata": {
        "id": "8hD_Vs-bYnip"
      },
      "source": [
        "### Implementing Experience Replay"
      ]
    },
    {
      "cell_type": "code",
      "source": [
        "class ReplayMemory(object):\n",
        "\n",
        "  def __init__(self, capacity):\n",
        "    self.device = torch.device(\"cuda:0\" if torch.cuda.is_available() else \"cpu\")\n",
        "    self.capacity = capacity\n",
        "    self.memory = []\n",
        "\n",
        "  def push(self, event):\n",
        "    self.memory.append(event)\n",
        "    if len(self.memory) > self.capacity:\n",
        "      del self.memory[0]\n",
        "\n",
        "  def sample(self, batch_size):\n",
        "    experiences = random.sample(self.memory, k = batch_size)\n",
        "    states = torch.from_numpy(np.vstack([e[0] for e in experiences if e is not None])).float().to(self.device)\n",
        "    actions = torch.from_numpy(np.vstack([e[1] for e in experiences if e is not None])).long().to(self.device)\n",
        "    rewards = torch.from_numpy(np.vstack([e[2] for e in experiences if e is not None])).float().to(self.device)\n",
        "    next_states = torch.from_numpy(np.vstack([e[3] for e in experiences if e is not None])).float().to(self.device)\n",
        "    dones = torch.from_numpy(np.vstack([e[4] for e in experiences if e is not None]).astype(np.uint8)).float().to(self.device)\n",
        "    return states, next_states, actions, rewards, dones"
      ],
      "metadata": {
        "id": "qJkV3NilRqR3"
      },
      "execution_count": 6,
      "outputs": []
    },
    {
      "cell_type": "markdown",
      "metadata": {
        "id": "JmEkbFbUY6Jt"
      },
      "source": [
        "### Implementing the DQN class"
      ]
    },
    {
      "cell_type": "code",
      "source": [
        "class Agent():\n",
        "\n",
        "  def __init__(self, state_size, action_size):\n",
        "    self.device = torch.device(\"cuda:0\" if torch.cuda.is_available() else \"cpu\")\n",
        "    self.state_size = state_size\n",
        "    self.action_size = action_size\n",
        "    self.local_qnetwork = Network(state_size, action_size).to(self.device)\n",
        "    self.target_qnetwork = Network(state_size, action_size).to(self.device)\n",
        "    self.optimizer = optim.Adam(self.local_qnetwork.parameters(), lr = learning_rate)\n",
        "    self.memory = ReplayMemory(replay_buffer_size)\n",
        "    self.t_step = 0\n",
        "\n",
        "  def step(self, state, action, reward, next_state, done):\n",
        "    self.memory.push((state, action, reward, next_state, done))\n",
        "    self.t_step = (self.t_step + 1) % 4\n",
        "    if self.t_step == 0:\n",
        "      if len(self.memory.memory) > minibatch_size:\n",
        "        experiences = self.memory.sample(100)\n",
        "        self.learn(experiences, discount_factor)\n",
        "\n",
        "  def act(self, state, epsilon = 0.):\n",
        "    state = torch.from_numpy(state).float().unsqueeze(0).to(self.device)\n",
        "    self.local_qnetwork.eval()\n",
        "    with torch.no_grad():\n",
        "      action_values = self.local_qnetwork(state)\n",
        "    self.local_qnetwork.train()\n",
        "    if random.random() > epsilon:\n",
        "      return np.argmax(action_values.cpu().data.numpy())\n",
        "    else:\n",
        "      return random.choice(np.arange(self.action_size))\n",
        "\n",
        "  def learn(self, experiences, discount_factor):\n",
        "    states, next_states, actions, rewards, dones = experiences\n",
        "    next_q_targets = self.target_qnetwork(next_states).detach().max(1)[0].unsqueeze(1)\n",
        "    q_targets = rewards + discount_factor * next_q_targets * (1 - dones)\n",
        "    q_expected = self.local_qnetwork(states).gather(1, actions)\n",
        "    loss = F.mse_loss(q_expected, q_targets)\n",
        "    self.optimizer.zero_grad()\n",
        "    loss.backward()\n",
        "    self.optimizer.step()\n",
        "    self.soft_update(self.local_qnetwork, self.target_qnetwork, interpolation_parameter)\n",
        "\n",
        "  def soft_update(self, local_model, target_model, interpolation_parameter):\n",
        "    for target_param, local_param in zip(target_model.parameters(), local_model.parameters()):\n",
        "      target_param.data.copy_(interpolation_parameter * local_param.data + (1.0 - interpolation_parameter) * target_param.data)"
      ],
      "metadata": {
        "id": "TIpoZN3-gKO_"
      },
      "execution_count": 7,
      "outputs": []
    },
    {
      "cell_type": "markdown",
      "metadata": {
        "id": "o1tZElccZmf6"
      },
      "source": [
        "### Initializing the DQN agent"
      ]
    },
    {
      "cell_type": "code",
      "source": [
        "agent = Agent(state_size, number_actions)"
      ],
      "metadata": {
        "id": "ZRC7xKRXblm3"
      },
      "execution_count": 8,
      "outputs": []
    },
    {
      "cell_type": "markdown",
      "metadata": {
        "id": "E8v0PtUfaVQp"
      },
      "source": [
        "### Training the DQN agent"
      ]
    },
    {
      "cell_type": "code",
      "source": [
        "number_episodes = 2000\n",
        "maximum_number_timesteps_per_episode = 1000\n",
        "epsilon_starting_value  = 1.0\n",
        "epsilon_ending_value  = 0.01\n",
        "epsilon_decay_value  = 0.995\n",
        "epsilon = epsilon_starting_value\n",
        "scores_on_100_episodes = deque(maxlen = 100)\n",
        "\n",
        "for episode in range(1, number_episodes + 1):\n",
        "  state, _ = env.reset()\n",
        "  score = 0\n",
        "  for t in range(maximum_number_timesteps_per_episode):\n",
        "    action = agent.act(state, epsilon)\n",
        "    next_state, reward, done, _, _ = env.step(action)\n",
        "    agent.step(state, action, reward, next_state, done)\n",
        "    state = next_state\n",
        "    score += reward\n",
        "    if done:\n",
        "      break\n",
        "  scores_on_100_episodes.append(score)\n",
        "  epsilon = max(epsilon_ending_value, epsilon_decay_value * epsilon)\n",
        "  # print('\\rEpisode {}\\tAverage Score: {:.2f}'.format(episode, np.mean(scores_on_100_episodes)), end = \"\")\n",
        "  print(f'\\rEpisoode {episode} \\tAverage Score: {np.mean(scores_on_100_episodes):.2f}', end =\"\" )\n",
        "  if episode % 100 == 0:\n",
        "    # print('\\rEpisode {}\\tAverage Score: {:.2f}'.format(episode, np.mean(scores_on_100_episodes)))\n",
        "    print(f'\\rEpisoode {episode} \\tAverage Score: {np.mean(scores_on_100_episodes):.2f}')\n",
        "  if np.mean(scores_on_100_episodes) >= 200.0:\n",
        "    # print('\\nEnvironment solved in {:d} episodes!\\tAverage Score: {:.2f}'.format(episode - 100, np.mean(scores_on_100_episodes)))\n",
        "    print(f'\\nEnvironment solved in {(episode - 100):d} episodes!\\tAverage Score: {np.mean(scores_on_100_episodes):.2f}' )\n",
        "    torch.save(agent.local_qnetwork.state_dict(), 'checkpoint.pth')\n",
        "    break"
      ],
      "metadata": {
        "colab": {
          "base_uri": "https://localhost:8080/"
        },
        "id": "5V8MqWzcq-6x",
        "outputId": "6dec0409-210a-4e03-b8e1-13b99485d197"
      },
      "execution_count": 9,
      "outputs": [
        {
          "output_type": "stream",
          "name": "stdout",
          "text": [
            "Episoode 100 \tAverage Score: -158.11\n",
            "Episoode 200 \tAverage Score: -95.48\n",
            "Episoode 300 \tAverage Score: -23.71\n",
            "Episoode 400 \tAverage Score: 17.42\n",
            "Episoode 500 \tAverage Score: 126.42\n",
            "Episoode 600 \tAverage Score: 152.99\n",
            "Episoode 700 \tAverage Score: 196.86\n",
            "Episoode 708 \tAverage Score: 200.30\n",
            "Environment solved in 608 episodes!\tAverage Score: 200.30\n"
          ]
        }
      ]
    },
    {
      "cell_type": "markdown",
      "metadata": {
        "id": "O8CNwdOTcCoP"
      },
      "source": [
        "## Part 3 - Visualizing the results"
      ]
    },
    {
      "cell_type": "code",
      "execution_count": 15,
      "metadata": {
        "id": "cb9nVvU2Okhk",
        "colab": {
          "base_uri": "https://localhost:8080/",
          "height": 459
        },
        "outputId": "b71acb1a-707d-4083-af21-602c8d5d3b81"
      },
      "outputs": [
        {
          "output_type": "stream",
          "name": "stderr",
          "text": [
            "WARNING:imageio_ffmpeg:IMAGEIO FFMPEG_WRITER WARNING: input image is not divisible by macro_block_size=16, resizing from (600, 400) to (608, 400) to ensure video compatibility with most codecs and players. To prevent resizing, make your input image divisible by the macro_block_size or set the macro_block_size to 1 (risking incompatibility).\n"
          ]
        },
        {
          "output_type": "display_data",
          "data": {
            "text/plain": [
              "<IPython.core.display.HTML object>"
            ],
            "text/html": [
              "<video alt=\"test\" autoplay\n",
              "                loop controls style=\"height: 400px;\">\n",
              "                <source src=\"data:video/mp4;base64,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\" type=\"video/mp4\" />\n",
              "             </video>"
            ]
          },
          "metadata": {}
        }
      ],
      "source": [
        "import glob\n",
        "import io\n",
        "import base64\n",
        "import imageio\n",
        "from IPython.display import HTML, display\n",
        "from gym.wrappers.monitoring.video_recorder import VideoRecorder\n",
        "\n",
        "def show_video_of_model(agent, env_name):\n",
        "    env = gym.make(env_name, render_mode='rgb_array')\n",
        "    state, _ = env.reset()\n",
        "    done = False\n",
        "    frames = []\n",
        "    while not done:\n",
        "        frame = env.render()\n",
        "        frames.append(frame)\n",
        "        action = agent.act(state)\n",
        "        state, reward, done, _, _ = env.step(action.item())\n",
        "    env.close()\n",
        "    imageio.mimsave('video.mp4', frames, fps=30)\n",
        "\n",
        "show_video_of_model(agent, 'LunarLander-v2')\n",
        "\n",
        "def show_video():\n",
        "    mp4list = glob.glob('*.mp4')\n",
        "    if len(mp4list) > 0:\n",
        "        mp4 = mp4list[0]\n",
        "        video = io.open(mp4, 'r+b').read()\n",
        "        encoded = base64.b64encode(video)\n",
        "        display(HTML(data='''<video alt=\"test\" autoplay\n",
        "                loop controls style=\"height: 400px;\">\n",
        "                <source src=\"data:video/mp4;base64,{0}\" type=\"video/mp4\" />\n",
        "             </video>'''.format(encoded.decode('ascii'))))\n",
        "    else:\n",
        "        print(\"Could not find video\")\n",
        "\n",
        "show_video()"
      ]
    }
  ],
  "metadata": {
    "colab": {
      "provenance": [],
      "include_colab_link": true
    },
    "kernelspec": {
      "display_name": "Python 3",
      "name": "python3"
    },
    "language_info": {
      "name": "python"
    }
  },
  "nbformat": 4,
  "nbformat_minor": 0
}